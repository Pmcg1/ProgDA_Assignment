{
 "cells": [
  {
   "cell_type": "markdown",
   "metadata": {},
   "source": [
    "# Programming for Data Analysis Project 2019"
   ]
  },
  {
   "cell_type": "markdown",
   "metadata": {},
   "source": [
    "Peter McGowan\n",
    "G00190832"
   ]
  },
  {
   "cell_type": "markdown",
   "metadata": {},
   "source": [
    "### Tasks:\n",
    "1. Explain the overall purpose of the package.\n",
    "2. Exaplain the use of the \"simple random data\" and \"Permutations\" functions.\n",
    "3. Explain the use and purpose of at least five \"Distributions\" functions.\n",
    "4. Explain the use of seeds in generating pseudorandom numbers."
   ]
  },
  {
   "cell_type": "markdown",
   "metadata": {},
   "source": [
    "Firstly, import some packages for use.\n",
    "We need numpy for the assignment. We'll also bring in matplotlib and seaborn for creating visualisations."
   ]
  },
  {
   "cell_type": "code",
   "execution_count": null,
   "metadata": {},
   "outputs": [],
   "source": [
    "# Import numpy to analyse it\n",
    "# Import matplotlib.pyplot and seaborn for visualisations\n",
    "import numpy as np\n",
    "import matplotlib.pyplot as plt\n",
    "import seaborn as sns"
   ]
  },
  {
   "cell_type": "markdown",
   "metadata": {},
   "source": [
    "This is the numpy.random documentation:\n",
    "https://docs.scipy.org/doc/numpy-1.16.0/reference/routines.random.html"
   ]
  },
  {
   "cell_type": "markdown",
   "metadata": {},
   "source": [
    "**** Explain the overall purpose of the package ****"
   ]
  },
  {
   "cell_type": "markdown",
   "metadata": {},
   "source": [
    "NumPy is the fundamental package for scientific computing in Python. It is a Python library that provides a multidimensional array object, various derived objects (such as masked arrays and matrices), and an assortment of routines for fast operations on arrays, including mathematical, logical, shape manipulation, sorting, selecting, I/O, discrete Fourier transforms, basic linear algebra, basic statistical operations, random simulation and much more."
   ]
  },
  {
   "cell_type": "markdown",
   "metadata": {},
   "source": [
    "NumPy is a Python package for scientific computing.\n",
    "\n",
    "It consists of a selection of array objects (Python doesn't have inbuilt support for arrays) and a range of algorithms for carrying out operations on arrays. It provides useful routines for statistical analysis and random number generation."
   ]
  },
  {
   "cell_type": "markdown",
   "metadata": {},
   "source": [
    "numpy.random is a set of routines that focus on generation of, or working with random numbers. It is split into four categories:\n",
    "1. Simple random data\n",
    "2. Permutations\n",
    "3. Distributions\n",
    "4. Random generator"
   ]
  },
  {
   "cell_type": "markdown",
   "metadata": {},
   "source": [
    "The \"Simple Random Data\" function generates pseudo-random numbers in the requested format. It includes 10 routines:\n",
    "1. rand: Random values in a given shape.\n",
    "2. randn: Return a sample (or samples) from the “standard normal” distribution.\n",
    "3. randint: Return random integers from low (inclusive) to high (exclusive).\n",
    "4. random_integers: Random integers of type np.int between low and high, inclusive.\n",
    "5. random_sample: Return random floats in the half-open interval [0.0, 1.0).\n",
    "6. random: Return random floats in the half-open interval [0.0, 1.0).\n",
    "7. ranf: Return random floats in the half-open interval [0.0, 1.0).\n",
    "8. size: Return random floats in the half-open interval [0.0, 1.0).\n",
    "9. choice: Generates a random sample from a given 1-D array\n",
    "10. bytes: Return random bytes.\n",
    "\n",
    "(No.s 6 through 8 are identical in function and output https://stackoverflow.com/questions/18829185/difference-between-various-numpy-random-functions)"
   ]
  },
  {
   "cell_type": "code",
   "execution_count": 6,
   "metadata": {},
   "outputs": [
    {
     "data": {
      "text/plain": [
       "array([0.09452482, 0.73814305, 0.78984517, 0.12916855, 0.35438345])"
      ]
     },
     "execution_count": 6,
     "metadata": {},
     "output_type": "execute_result"
    }
   ],
   "source": [
    "# Generate 5 random numbers\n",
    "np.random.rand(5)"
   ]
  },
  {
   "cell_type": "code",
   "execution_count": 7,
   "metadata": {},
   "outputs": [
    {
     "data": {
      "text/plain": [
       "array([[0.98268201, 0.29510889, 0.68921591, 0.35355341, 0.79568276],\n",
       "       [0.54562307, 0.10721712, 0.55089541, 0.43056156, 0.08693352],\n",
       "       [0.52223337, 0.68578509, 0.83679089, 0.84293849, 0.00143979],\n",
       "       [0.11648505, 0.4854669 , 0.95750575, 0.77636588, 0.38271214],\n",
       "       [0.12330896, 0.88991916, 0.43492106, 0.7593882 , 0.15306849]])"
      ]
     },
     "execution_count": 7,
     "metadata": {},
     "output_type": "execute_result"
    }
   ],
   "source": [
    "# Generate a 5x5 array of random numbers\n",
    "np.random.rand(5,5)"
   ]
  },
  {
   "cell_type": "code",
   "execution_count": 8,
   "metadata": {},
   "outputs": [
    {
     "data": {
      "text/plain": [
       "array([[[0.62611147, 0.4548954 , 0.69281657],\n",
       "        [0.03625446, 0.58484442, 0.38308165],\n",
       "        [0.04836633, 0.92229166, 0.13281941]],\n",
       "\n",
       "       [[0.69418526, 0.52040527, 0.72053432],\n",
       "        [0.17215251, 0.87889681, 0.38218043],\n",
       "        [0.59461147, 0.52517081, 0.95366354]],\n",
       "\n",
       "       [[0.59734575, 0.22845854, 0.54730369],\n",
       "        [0.76819988, 0.08863394, 0.18328316],\n",
       "        [0.95570367, 0.5620779 , 0.02397447]]])"
      ]
     },
     "execution_count": 8,
     "metadata": {},
     "output_type": "execute_result"
    }
   ],
   "source": [
    "# Generate a 3x3x3 array of random numbers\n",
    "np.random.rand(3,3,3)"
   ]
  },
  {
   "cell_type": "markdown",
   "metadata": {},
   "source": [
    "The \"Permutations\" function operates differently depending on the input. Giving a single integer will assume the input is a range and output a random permutation of that range."
   ]
  },
  {
   "cell_type": "code",
   "execution_count": 9,
   "metadata": {},
   "outputs": [
    {
     "data": {
      "text/plain": [
       "array([4, 3, 2, 0, 1])"
      ]
     },
     "execution_count": 9,
     "metadata": {},
     "output_type": "execute_result"
    }
   ],
   "source": [
    "np.random.permutation(5)"
   ]
  },
  {
   "cell_type": "markdown",
   "metadata": {},
   "source": [
    "In contrast, inputting an array will output a permutation of the input array."
   ]
  },
  {
   "cell_type": "code",
   "execution_count": 12,
   "metadata": {},
   "outputs": [
    {
     "data": {
      "text/plain": [
       "array([1, 5, 4, 3, 2])"
      ]
     },
     "execution_count": 12,
     "metadata": {},
     "output_type": "execute_result"
    }
   ],
   "source": [
    "np.random.permutation([5, 4, 3, 2, 1])"
   ]
  }
 ],
 "metadata": {
  "file_extension": ".py",
  "kernelspec": {
   "display_name": "Python 3",
   "language": "python",
   "name": "python3"
  },
  "language_info": {
   "codemirror_mode": {
    "name": "ipython",
    "version": 3
   },
   "file_extension": ".py",
   "mimetype": "text/x-python",
   "name": "python",
   "nbconvert_exporter": "python",
   "pygments_lexer": "ipython3",
   "version": "3.7.3"
  },
  "mimetype": "text/x-python",
  "name": "python",
  "npconvert_exporter": "python",
  "pygments_lexer": "ipython3",
  "version": 3
 },
 "nbformat": 4,
 "nbformat_minor": 4
}
